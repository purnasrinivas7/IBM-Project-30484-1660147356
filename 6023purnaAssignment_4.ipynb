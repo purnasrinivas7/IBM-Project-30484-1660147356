{
  "cells": [
    {
      "cell_type": "markdown",
      "metadata": {
        "id": "7FMSQ5_25ceG"
      },
      "source": [
        "**Assignment 4 - Customer Segmentation Analysis**"
      ]
    },
    {
      "cell_type": "markdown",
      "metadata": {
        "id": "kmcgrnj_55br"
      },
      "source": [
        "**Importing Libraries**\n"
      ]
    },
    {
      "cell_type": "code",
      "execution_count": null,
      "metadata": {
        "id": "WcWKw27i6Pq7"
      },
      "outputs": [],
      "source": [
        "import numpy as np\n",
        "import pandas as pd\n",
        "\n",
        "import matplotlib.pyplot as plt\n",
        "import seaborn as sns"
      ]
    },
    {
      "cell_type": "markdown",
      "metadata": {
        "id": "AcReyVjf65FE"
      },
      "source": [
        "**2. Load the dataset into the tool**"
      ]
    },
    {
      "cell_type": "code",
      "execution_count": null,
      "metadata": {
        "colab": {
          "base_uri": "https://localhost:8080/"
        },
        "id": "P6HRl2eI68pl",
        "outputId": "8265fd80-9fb1-43b6-b772-5d01316b28a6"
      },
      "outputs": [
        {
          "data": {
            "text/plain": [
              "(200, 5)"
            ]
          },
          "execution_count": 3,
          "metadata": {},
          "output_type": "execute_result"
        }
      ],
      "source": [
        "data = pd.read_csv('Mall_Customers.csv')\n",
        "# getting the shape\n",
        "data.shape"
      ]
    },
    {
      "cell_type": "code",
      "execution_count": null,
      "metadata": {
        "colab": {
          "base_uri": "https://localhost:8080/",
          "height": 206
        },
        "id": "IGX6hQsR7l5R",
        "outputId": "321c0ac2-00cd-44f2-ccb8-0f7c6140a7a5"
      },
      "outputs": [
        {
          "data": {
            "text/html": [
              "\n",
              "  <div id=\"df-c895810c-077d-447f-9244-5624788ebc78\">\n",
              "    <div class=\"colab-df-container\">\n",
              "      <div>\n",
              "<style scoped>\n",
              "    .dataframe tbody tr th:only-of-type {\n",
              "        vertical-align: middle;\n",
              "    }\n",
              "\n",
              "    .dataframe tbody tr th {\n",
              "        vertical-align: top;\n",
              "    }\n",
              "\n",
              "    .dataframe thead th {\n",
              "        text-align: right;\n",
              "    }\n",
              "</style>\n",
              "<table border=\"1\" class=\"dataframe\">\n",
              "  <thead>\n",
              "    <tr style=\"text-align: right;\">\n",
              "      <th></th>\n",
              "      <th>CustomerID</th>\n",
              "      <th>Gender</th>\n",
              "      <th>Age</th>\n",
              "      <th>Annual Income (k$)</th>\n",
              "      <th>Spending Score (1-100)</th>\n",
              "    </tr>\n",
              "  </thead>\n",
              "  <tbody>\n",
              "    <tr>\n",
              "      <th>0</th>\n",
              "      <td>1</td>\n",
              "      <td>Male</td>\n",
              "      <td>19</td>\n",
              "      <td>15</td>\n",
              "      <td>39</td>\n",
              "    </tr>\n",
              "    <tr>\n",
              "      <th>1</th>\n",
              "      <td>2</td>\n",
              "      <td>Male</td>\n",
              "      <td>21</td>\n",
              "      <td>15</td>\n",
              "      <td>81</td>\n",
              "    </tr>\n",
              "    <tr>\n",
              "      <th>2</th>\n",
              "      <td>3</td>\n",
              "      <td>Female</td>\n",
              "      <td>20</td>\n",
              "      <td>16</td>\n",
              "      <td>6</td>\n",
              "    </tr>\n",
              "    <tr>\n",
              "      <th>3</th>\n",
              "      <td>4</td>\n",
              "      <td>Female</td>\n",
              "      <td>23</td>\n",
              "      <td>16</td>\n",
              "      <td>77</td>\n",
              "    </tr>\n",
              "    <tr>\n",
              "      <th>4</th>\n",
              "      <td>5</td>\n",
              "      <td>Female</td>\n",
              "      <td>31</td>\n",
              "      <td>17</td>\n",
              "      <td>40</td>\n",
              "    </tr>\n",
              "  </tbody>\n",
              "</table>\n",
              "</div>\n",
              "      <button class=\"colab-df-convert\" onclick=\"convertToInteractive('df-c895810c-077d-447f-9244-5624788ebc78')\"\n",
              "              title=\"Convert this dataframe to an interactive table.\"\n",
              "              style=\"display:none;\">\n",
              "        \n",
              "  <svg xmlns=\"http://www.w3.org/2000/svg\" height=\"24px\"viewBox=\"0 0 24 24\"\n",
              "       width=\"24px\">\n",
              "    <path d=\"M0 0h24v24H0V0z\" fill=\"none\"/>\n",
              "    <path d=\"M18.56 5.44l.94 2.06.94-2.06 2.06-.94-2.06-.94-.94-2.06-.94 2.06-2.06.94zm-11 1L8.5 8.5l.94-2.06 2.06-.94-2.06-.94L8.5 2.5l-.94 2.06-2.06.94zm10 10l.94 2.06.94-2.06 2.06-.94-2.06-.94-.94-2.06-.94 2.06-2.06.94z\"/><path d=\"M17.41 7.96l-1.37-1.37c-.4-.4-.92-.59-1.43-.59-.52 0-1.04.2-1.43.59L10.3 9.45l-7.72 7.72c-.78.78-.78 2.05 0 2.83L4 21.41c.39.39.9.59 1.41.59.51 0 1.02-.2 1.41-.59l7.78-7.78 2.81-2.81c.8-.78.8-2.07 0-2.86zM5.41 20L4 18.59l7.72-7.72 1.47 1.35L5.41 20z\"/>\n",
              "  </svg>\n",
              "      </button>\n",
              "      \n",
              "  <style>\n",
              "    .colab-df-container {\n",
              "      display:flex;\n",
              "      flex-wrap:wrap;\n",
              "      gap: 12px;\n",
              "    }\n",
              "\n",
              "    .colab-df-convert {\n",
              "      background-color: #E8F0FE;\n",
              "      border: none;\n",
              "      border-radius: 50%;\n",
              "      cursor: pointer;\n",
              "      display: none;\n",
              "      fill: #1967D2;\n",
              "      height: 32px;\n",
              "      padding: 0 0 0 0;\n",
              "      width: 32px;\n",
              "    }\n",
              "\n",
              "    .colab-df-convert:hover {\n",
              "      background-color: #E2EBFA;\n",
              "      box-shadow: 0px 1px 2px rgba(60, 64, 67, 0.3), 0px 1px 3px 1px rgba(60, 64, 67, 0.15);\n",
              "      fill: #174EA6;\n",
              "    }\n",
              "\n",
              "    [theme=dark] .colab-df-convert {\n",
              "      background-color: #3B4455;\n",
              "      fill: #D2E3FC;\n",
              "    }\n",
              "\n",
              "    [theme=dark] .colab-df-convert:hover {\n",
              "      background-color: #434B5C;\n",
              "      box-shadow: 0px 1px 3px 1px rgba(0, 0, 0, 0.15);\n",
              "      filter: drop-shadow(0px 1px 2px rgba(0, 0, 0, 0.3));\n",
              "      fill: #FFFFFF;\n",
              "    }\n",
              "  </style>\n",
              "\n",
              "      <script>\n",
              "        const buttonEl =\n",
              "          document.querySelector('#df-c895810c-077d-447f-9244-5624788ebc78 button.colab-df-convert');\n",
              "        buttonEl.style.display =\n",
              "          google.colab.kernel.accessAllowed ? 'block' : 'none';\n",
              "\n",
              "        async function convertToInteractive(key) {\n",
              "          const element = document.querySelector('#df-c895810c-077d-447f-9244-5624788ebc78');\n",
              "          const dataTable =\n",
              "            await google.colab.kernel.invokeFunction('convertToInteractive',\n",
              "                                                     [key], {});\n",
              "          if (!dataTable) return;\n",
              "\n",
              "          const docLinkHtml = 'Like what you see? Visit the ' +\n",
              "            '<a target=\"_blank\" href=https://colab.research.google.com/notebooks/data_table.ipynb>data table notebook</a>'\n",
              "            + ' to learn more about interactive tables.';\n",
              "          element.innerHTML = '';\n",
              "          dataTable['output_type'] = 'display_data';\n",
              "          await google.colab.output.renderOutput(dataTable, element);\n",
              "          const docLink = document.createElement('div');\n",
              "          docLink.innerHTML = docLinkHtml;\n",
              "          element.appendChild(docLink);\n",
              "        }\n",
              "      </script>\n",
              "    </div>\n",
              "  </div>\n",
              "  "
            ],
            "text/plain": [
              "   CustomerID  Gender  Age  Annual Income (k$)  Spending Score (1-100)\n",
              "0           1    Male   19                  15                      39\n",
              "1           2    Male   21                  15                      81\n",
              "2           3  Female   20                  16                       6\n",
              "3           4  Female   23                  16                      77\n",
              "4           5  Female   31                  17                      40"
            ]
          },
          "execution_count": 8,
          "metadata": {},
          "output_type": "execute_result"
        }
      ],
      "source": [
        "# looking at the head of the data\n",
        "\n",
        "data.head()"
      ]
    },
    {
      "cell_type": "markdown",
      "metadata": {
        "id": "0IvVIu2w7y9q"
      },
      "source": [
        "**3.Perform Below Visualizatons**\n"
      ]
    },
    {
      "cell_type": "markdown",
      "metadata": {
        "id": "FlSAvlpX728g"
      },
      "source": [
        "**3.1 Univariate Analysis**"
      ]
    },
    {
      "cell_type": "code",
      "execution_count": null,
      "metadata": {
        "colab": {
          "base_uri": "https://localhost:8080/",
          "height": 456
        },
        "id": "FeWpvl-_9FOg",
        "outputId": "1bfcf05a-56aa-4337-ef49-f2e71cab9311"
      },
      "outputs": [
        {
          "data": {
            "text/plain": [
              "array([[<matplotlib.axes._subplots.AxesSubplot object at 0x7f53566cc850>,\n",
              "        <matplotlib.axes._subplots.AxesSubplot object at 0x7f5356626d90>,\n",
              "        <matplotlib.axes._subplots.AxesSubplot object at 0x7f53565eb390>,\n",
              "        <matplotlib.axes._subplots.AxesSubplot object at 0x7f53565a1990>],\n",
              "       [<matplotlib.axes._subplots.AxesSubplot object at 0x7f5356562190>,\n",
              "        <matplotlib.axes._subplots.AxesSubplot object at 0x7f535651a5d0>,\n",
              "        <matplotlib.axes._subplots.AxesSubplot object at 0x7f53564e0f90>,\n",
              "        <matplotlib.axes._subplots.AxesSubplot object at 0x7f535649a5d0>]],\n",
              "      dtype=object)"
            ]
          },
          "execution_count": 9,
          "metadata": {},
          "output_type": "execute_result"
        },
        {
          "data": {
            "image/png": "[encoded data removed]",
            "text/plain": [
              "<Figure size 1440x720 with 8 Axes>"
            ]
          },
          "metadata": {
            "needs_background": "light"
          },
          "output_type": "display_data"
        }
      ],
      "source": [
        "data.hist(figsize=(20,10), grid=False, layout=(2, 4), bins = 30)"
      ]
    },
    {
      "cell_type": "markdown",
      "metadata": {
        "id": "YiUyE-zmEP6I"
      },
      "source": [
        "**3.2 Bi-variate Analysis**"
      ]
    },
    {
      "cell_type": "code",
      "execution_count": null,
      "metadata": {
        "colab": {
          "base_uri": "https://localhost:8080/",
          "height": 743
        },
        "id": "6VLrM0LQEUHN",
        "outputId": "1b050af1-61ea-4260-bb77-f2b3a547f7a8"
      },
      "outputs": [
        {
          "data": {
            "text/plain": [
              "<seaborn.axisgrid.PairGrid at 0x7f53561fd4d0>"
            ]
          },
          "execution_count": 10,
          "metadata": {},
          "output_type": "execute_result"
        },
        {
          "data": {
            "image/png": "[encoded data removed]",
            "text/plain": [
              "<Figure size 720x720 with 20 Axes>"
            ]
          },
          "metadata": {
            "needs_background": "light"
          },
          "output_type": "display_data"
        }
      ],
      "source": [
        "sns.pairplot(data)"
      ]
    },
    {
      "cell_type": "markdown",
      "metadata": {
        "id": "ZBJPzwNrE5ip"
      },
      "source": [
        "**3.3 Multi-Variate Analysis**"
      ]
    },
    {
      "cell_type": "code",
      "execution_count": null,
      "metadata": {
        "colab": {
          "base_uri": "https://localhost:8080/",
          "height": 377
        },
        "id": "O0TFQkIDFDKz",
        "outputId": "3d7e938e-1a5c-43aa-beda-ce6ff457e1d0"
      },
      "outputs": [
        {
          "data": {
            "image/png": "[encoded data removed]",
            "text/plain": [
              "<Figure size 432x288 with 2 Axes>"
            ]
          },
          "metadata": {
            "needs_background": "light"
          },
          "output_type": "display_data"
        }
      ],
      "source": [
        "dataplot = sns.heatmap(data.corr(), cmap=\"YlGnBu\", annot=True)\n",
        "plt.show()"
      ]
    },
    {
      "cell_type": "markdown",
      "metadata": {
        "id": "F6CNIqEOFVDT"
      },
      "source": [
        "**4.Perform descriptive statistics on the dataset.**\n"
      ]
    },
    {
      "cell_type": "code",
      "execution_count": null,
      "metadata": {
        "colab": {
          "base_uri": "https://localhost:8080/",
          "height": 300
        },
        "id": "SDozIN-dFX-W",
        "outputId": "1bc6e575-9a88-4146-c2d0-c76bf8dd63a1"
      },
      "outputs": [
        {
          "data": {
            "text/html": [
              "\n",
              "  <div id=\"df-c4482475-8044-47dd-8cc9-29b6954fc1b2\">\n",
              "    <div class=\"colab-df-container\">\n",
              "      <div>\n",
              "<style scoped>\n",
              "    .dataframe tbody tr th:only-of-type {\n",
              "        vertical-align: middle;\n",
              "    }\n",
              "\n",
              "    .dataframe tbody tr th {\n",
              "        vertical-align: top;\n",
              "    }\n",
              "\n",
              "    .dataframe thead th {\n",
              "        text-align: right;\n",
              "    }\n",
              "</style>\n",
              "<table border=\"1\" class=\"dataframe\">\n",
              "  <thead>\n",
              "    <tr style=\"text-align: right;\">\n",
              "      <th></th>\n",
              "      <th>CustomerID</th>\n",
              "      <th>Age</th>\n",
              "      <th>Annual Income (k$)</th>\n",
              "      <th>Spending Score (1-100)</th>\n",
              "    </tr>\n",
              "  </thead>\n",
              "  <tbody>\n",
              "    <tr>\n",
              "      <th>count</th>\n",
              "      <td>200.000000</td>\n",
              "      <td>200.000000</td>\n",
              "      <td>200.000000</td>\n",
              "      <td>200.000000</td>\n",
              "    </tr>\n",
              "    <tr>\n",
              "      <th>mean</th>\n",
              "      <td>100.500000</td>\n",
              "      <td>38.850000</td>\n",
              "      <td>60.560000</td>\n",
              "      <td>50.200000</td>\n",
              "    </tr>\n",
              "    <tr>\n",
              "      <th>std</th>\n",
              "      <td>57.879185</td>\n",
              "      <td>13.969007</td>\n",
              "      <td>26.264721</td>\n",
              "      <td>25.823522</td>\n",
              "    </tr>\n",
              "    <tr>\n",
              "      <th>min</th>\n",
              "      <td>1.000000</td>\n",
              "      <td>18.000000</td>\n",
              "      <td>15.000000</td>\n",
              "      <td>1.000000</td>\n",
              "    </tr>\n",
              "    <tr>\n",
              "      <th>25%</th>\n",
              "      <td>50.750000</td>\n",
              "      <td>28.750000</td>\n",
              "      <td>41.500000</td>\n",
              "      <td>34.750000</td>\n",
              "    </tr>\n",
              "    <tr>\n",
              "      <th>50%</th>\n",
              "      <td>100.500000</td>\n",
              "      <td>36.000000</td>\n",
              "      <td>61.500000</td>\n",
              "      <td>50.000000</td>\n",
              "    </tr>\n",
              "    <tr>\n",
              "      <th>75%</th>\n",
              "      <td>150.250000</td>\n",
              "      <td>49.000000</td>\n",
              "      <td>78.000000</td>\n",
              "      <td>73.000000</td>\n",
              "    </tr>\n",
              "    <tr>\n",
              "      <th>max</th>\n",
              "      <td>200.000000</td>\n",
              "      <td>70.000000</td>\n",
              "      <td>137.000000</td>\n",
              "      <td>99.000000</td>\n",
              "    </tr>\n",
              "  </tbody>\n",
              "</table>\n",
              "</div>\n",
              "      <button class=\"colab-df-convert\" onclick=\"convertToInteractive('df-c4482475-8044-47dd-8cc9-29b6954fc1b2')\"\n",
              "              title=\"Convert this dataframe to an interactive table.\"\n",
              "              style=\"display:none;\">\n",
              "        \n",
              "  <svg xmlns=\"http://www.w3.org/2000/svg\" height=\"24px\"viewBox=\"0 0 24 24\"\n",
              "       width=\"24px\">\n",
              "    <path d=\"M0 0h24v24H0V0z\" fill=\"none\"/>\n",
              "    <path d=\"M18.56 5.44l.94 2.06.94-2.06 2.06-.94-2.06-.94-.94-2.06-.94 2.06-2.06.94zm-11 1L8.5 8.5l.94-2.06 2.06-.94-2.06-.94L8.5 2.5l-.94 2.06-2.06.94zm10 10l.94 2.06.94-2.06 2.06-.94-2.06-.94-.94-2.06-.94 2.06-2.06.94z\"/><path d=\"M17.41 7.96l-1.37-1.37c-.4-.4-.92-.59-1.43-.59-.52 0-1.04.2-1.43.59L10.3 9.45l-7.72 7.72c-.78.78-.78 2.05 0 2.83L4 21.41c.39.39.9.59 1.41.59.51 0 1.02-.2 1.41-.59l7.78-7.78 2.81-2.81c.8-.78.8-2.07 0-2.86zM5.41 20L4 18.59l7.72-7.72 1.47 1.35L5.41 20z\"/>\n",
              "  </svg>\n",
              "      </button>\n",
              "      \n",
              "  <style>\n",
              "    .colab-df-container {\n",
              "      display:flex;\n",
              "      flex-wrap:wrap;\n",
              "      gap: 12px;\n",
              "    }\n",
              "\n",
              "    .colab-df-convert {\n",
              "      background-color: #E8F0FE;\n",
              "      border: none;\n",
              "      border-radius: 50%;\n",
              "      cursor: pointer;\n",
              "      display: none;\n",
              "      fill: #1967D2;\n",
              "      height: 32px;\n",
              "      padding: 0 0 0 0;\n",
              "      width: 32px;\n",
              "    }\n",
              "\n",
              "    .colab-df-convert:hover {\n",
              "      background-color: #E2EBFA;\n",
              "      box-shadow: 0px 1px 2px rgba(60, 64, 67, 0.3), 0px 1px 3px 1px rgba(60, 64, 67, 0.15);\n",
              "      fill: #174EA6;\n",
              "    }\n",
              "\n",
              "    [theme=dark] .colab-df-convert {\n",
              "      background-color: #3B4455;\n",
              "      fill: #D2E3FC;\n",
              "    }\n",
              "\n",
              "    [theme=dark] .colab-df-convert:hover {\n",
              "      background-color: #434B5C;\n",
              "      box-shadow: 0px 1px 3px 1px rgba(0, 0, 0, 0.15);\n",
              "      filter: drop-shadow(0px 1px 2px rgba(0, 0, 0, 0.3));\n",
              "      fill: #FFFFFF;\n",
              "    }\n",
              "  </style>\n",
              "\n",
              "      <script>\n",
              "        const buttonEl =\n",
              "          document.querySelector('#df-c4482475-8044-47dd-8cc9-29b6954fc1b2 button.colab-df-convert');\n",
              "        buttonEl.style.display =\n",
              "          google.colab.kernel.accessAllowed ? 'block' : 'none';\n",
              "\n",
              "        async function convertToInteractive(key) {\n",
              "          const element = document.querySelector('#df-c4482475-8044-47dd-8cc9-29b6954fc1b2');\n",
              "          const dataTable =\n",
              "            await google.colab.kernel.invokeFunction('convertToInteractive',\n",
              "                                                     [key], {});\n",
              "          if (!dataTable) return;\n",
              "\n",
              "          const docLinkHtml = 'Like what you see? Visit the ' +\n",
              "            '<a target=\"_blank\" href=https://colab.research.google.com/notebooks/data_table.ipynb>data table notebook</a>'\n",
              "            + ' to learn more about interactive tables.';\n",
              "          element.innerHTML = '';\n",
              "          dataTable['output_type'] = 'display_data';\n",
              "          await google.colab.output.renderOutput(dataTable, element);\n",
              "          const docLink = document.createElement('div');\n",
              "          docLink.innerHTML = docLinkHtml;\n",
              "          element.appendChild(docLink);\n",
              "        }\n",
              "      </script>\n",
              "    </div>\n",
              "  </div>\n",
              "  "
            ],
            "text/plain": [
              "       CustomerID         Age  Annual Income (k$)  Spending Score (1-100)\n",
              "count  200.000000  200.000000          200.000000              200.000000\n",
              "mean   100.500000   38.850000           60.560000               50.200000\n",
              "std     57.879185   13.969007           26.264721               25.823522\n",
              "min      1.000000   18.000000           15.000000                1.000000\n",
              "25%     50.750000   28.750000           41.500000               34.750000\n",
              "50%    100.500000   36.000000           61.500000               50.000000\n",
              "75%    150.250000   49.000000           78.000000               73.000000\n",
              "max    200.000000   70.000000          137.000000               99.000000"
            ]
          },
          "execution_count": 12,
          "metadata": {},
          "output_type": "execute_result"
        }
      ],
      "source": [
        "data.describe()"
      ]
    },
    {
      "cell_type": "markdown",
      "metadata": {
        "id": "oRswchXMFsAf"
      },
      "source": [
        "**5.Check for Missing values and deal with them.**"
      ]
    },
    {
      "cell_type": "code",
      "execution_count": null,
      "metadata": {
        "colab": {
          "base_uri": "https://localhost:8080/"
        },
        "id": "aRHMJvH9FuZU",
        "outputId": "f83eb42f-0734-4db8-9595-39085b228d93"
      },
      "outputs": [
        {
          "data": {
            "text/plain": [
              "CustomerID                False\n",
              "Gender                    False\n",
              "Age                       False\n",
              "Annual Income (k$)        False\n",
              "Spending Score (1-100)    False\n",
              "dtype: bool"
            ]
          },
          "execution_count": 13,
          "metadata": {},
          "output_type": "execute_result"
        }
      ],
      "source": [
        "data.isnull().any()"
      ]
    },
    {
      "cell_type": "markdown",
      "metadata": {
        "id": "eCL3yup0WnE3"
      },
      "source": [
        "**9. Perform any of the clustering algorithms**\n",
        "\n",
        "**10. Add the cluster data with the primary dataset**"
      ]
    },
    {
      "cell_type": "markdown",
      "metadata": {
        "id": "7dnt04M7XIYF"
      },
      "source": [
        "**K-Means Clustering**\n",
        "\n",
        "k-means clustering based on annual income"
      ]
    },
    {
      "cell_type": "markdown",
      "metadata": {
        "id": "tTd7a2Y5XVzQ"
      },
      "source": [
        "Elbow method to find the optimal number of Clusters"
      ]
    },
    {
      "cell_type": "code",
      "execution_count": null,
      "metadata": {
        "colab": {
          "base_uri": "https://localhost:8080/"
        },
        "id": "enk7Ma-INmHT",
        "outputId": "276a5c38-115c-44e7-9564-86940d8aa652"
      },
      "outputs": [
        {
          "data": {
            "text/plain": [
              "(200, 2)"
            ]
          },
          "execution_count": 36,
          "metadata": {},
          "output_type": "execute_result"
        }
      ],
      "source": [
        "x = data.iloc[:, [3, 4]].values\n",
        "x.shape"
      ]
    },
    {
      "cell_type": "code",
      "execution_count": null,
      "metadata": {
        "colab": {
          "base_uri": "https://localhost:8080/",
          "height": 295
        },
        "id": "gTjtWyM-OlSV",
        "outputId": "83fc53bc-f6f4-4745-c567-d2ea33a2b73e"
      },
      "outputs": [
        {
          "data": {
            "image/png": "[encoded data removed]",
            "text/plain": [
              "<Figure size 432x288 with 1 Axes>"
            ]
          },
          "metadata": {
            "needs_background": "light"
          },
          "output_type": "display_data"
        }
      ],
      "source": [
        "from sklearn.cluster import KMeans\n",
        "\n",
        "wcss = []\n",
        "for i in range(1, 11):\n",
        "  km = KMeans(n_clusters = i, init = 'k-means++', max_iter = 300, n_init = 10, random_state = 0)\n",
        "  km.fit(x)\n",
        "  wcss.append(km.inertia_)\n",
        "  \n",
        "plt.plot(range(1, 11), wcss)\n",
        "plt.title('The Elbow Method')\n",
        "plt.xlabel('No. of Clusters')\n",
        "plt.ylabel('wcss')\n",
        "plt.show()"
      ]
    },
    {
      "cell_type": "code",
      "execution_count": null,
      "metadata": {
        "colab": {
          "base_uri": "https://localhost:8080/",
          "height": 295
        },
        "id": "2nq82VlIO0Ev",
        "outputId": "9b8a5280-dcf9-4e27-de67-883709bdec7c"
      },
      "outputs": [
        {
          "data": {
            "image/png": "[encoded data removed]",
            "text/plain": [
              "<Figure size 432x288 with 1 Axes>"
            ]
          },
          "metadata": {
            "needs_background": "light"
          },
          "output_type": "display_data"
        }
      ],
      "source": [
        "km = KMeans(n_clusters = 5, init = 'k-means++', max_iter = 300, n_init = 10, random_state = 0)\n",
        "y_means = km.fit_predict(x)\n",
        "\n",
        "plt.scatter(x[y_means == 0, 0], x[y_means == 0, 1], s = 100, c = 'red', label = 'miser')\n",
        "plt.scatter(x[y_means == 1, 0], x[y_means == 1, 1], s = 100, c = 'orange', label = 'general')\n",
        "plt.scatter(x[y_means == 2, 0], x[y_means == 2, 1], s = 100, c = 'prink', label = 'target')\n",
        "plt.scatter(x[y_means == 3, 0], x[y_means == 3, 1], s = 100, c = 'magenta', label = 'spendthrift')\n",
        "plt.scatter(x[y_means == 4, 0], x[y_means == 4, 1], s = 100, c = 'green', label = 'careful')\n",
        "plt.scatter(km.cluster_centers_[:,0], km.cluster_centers_[:, 1], s = 50, c = 'black' , label = 'centeroid')\n",
        "\n",
        "plt.title('K Means Clustering')\n",
        "plt.xlabel('Annual Income')\n",
        "plt.ylabel('Spending Score')\n",
        "plt.legend()\n",
        "plt.show()"
      ]
    },
    {
      "cell_type": "markdown",
      "metadata": {
        "id": "Ioovj6fiXsma"
      },
      "source": [
        "k-means clustering based on age\n",
        "\n"
      ]
    },
    {
      "cell_type": "code",
      "execution_count": null,
      "metadata": {
        "colab": {
          "base_uri": "https://localhost:8080/"
        },
        "id": "8dCbWEyUPH81",
        "outputId": "d852c22b-7532-4477-92b4-9e3e830373cb"
      },
      "outputs": [
        {
          "data": {
            "text/plain": [
              "(200, 2)"
            ]
          },
          "execution_count": 8,
          "metadata": {},
          "output_type": "execute_result"
        }
      ],
      "source": [
        "x = data.iloc[:, [2, 4]].values\n",
        "x.shape"
      ]
    },
    {
      "cell_type": "code",
      "execution_count": null,
      "metadata": {
        "colab": {
          "base_uri": "https://localhost:8080/",
          "height": 355
        },
        "id": "AGJQuvAZPQ-4",
        "outputId": "94efb024-ba7d-4b05-f511-8a1fe8d06499"
      },
      "outputs": [
        {
          "data": {
            "image/png": "[encoded data removed]",
            "text/plain": [
              "<Figure size 504x360 with 1 Axes>"
            ]
          },
          "metadata": {
            "needs_background": "light"
          },
          "output_type": "display_data"
        }
      ],
      "source": [
        "from sklearn.cluster import KMeans\n",
        "\n",
        "wcss = []\n",
        "for i in range(1, 11):\n",
        "  kmeans = KMeans(n_clusters = i, init = 'k-means++', max_iter = 300, n_init = 10, random_state = 0)\n",
        "  kmeans.fit(x)\n",
        "  wcss.append(kmeans.inertia_)\n",
        "\n",
        "plt.rcParams['figure.figsize'] = (7, 5)\n",
        "plt.plot(range(1, 11), wcss)\n",
        "plt.title('K-Means Clustering(The Elbow Method)', fontsize = 20)\n",
        "plt.xlabel('Age')\n",
        "plt.ylabel('Count')\n",
        "plt.show()"
      ]
    },
    {
      "cell_type": "code",
      "execution_count": null,
      "metadata": {
        "colab": {
          "base_uri": "https://localhost:8080/",
          "height": 634
        },
        "id": "2jYkKZTAPciU",
        "outputId": "97cab54d-b54f-4e35-e6f8-1e34a7ef58ed"
      },
      "outputs": [
        {
          "data": {
            "image/png": "[encoded data removed]",
            "text/plain": [
              "<Figure size 720x720 with 1 Axes>"
            ]
          },
          "metadata": {
            "needs_background": "light"
          },
          "output_type": "display_data"
        }
      ],
      "source": [
        "kmeans = KMeans(n_clusters = 4, init = 'k-means++', max_iter = 300, n_init = 10, random_state = 0)\n",
        "ymeans = kmeans.fit_predict(x)\n",
        "\n",
        "plt.rcParams['figure.figsize'] = (10, 10)\n",
        "plt.title('Cluster of Ages', fontsize = 30)\n",
        "\n",
        "plt.scatter(x[ymeans == 0, 0], x[ymeans == 0, 1], s = 100, c = 'orange', label = 'Usual Customers' )\n",
        "plt.scatter(x[ymeans == 1, 0], x[ymeans == 1, 1], s = 100, c = 'yellow', label = 'Priority Customers')\n",
        "plt.scatter(x[ymeans == 2, 0], x[ymeans == 2, 1], s = 100, c = 'pink', label = 'Target Customers(Young)')\n",
        "plt.scatter(x[ymeans == 3, 0], x[ymeans == 3, 1], s = 100, c = 'red', label = 'Target Customers(Old)')\n",
        "plt.scatter(kmeans.cluster_centers_[:, 0], kmeans.cluster_centers_[:, 1], s = 50, c = 'blue')\n",
        "\n",
        "plt.xlabel('Age')\n",
        "plt.ylabel('Spending Score (1-100)')\n",
        "plt.legend()\n",
        "plt.show()"
      ]
    },
    {
      "cell_type": "markdown",
      "metadata": {
        "id": "WCaKu_efYVuz"
      },
      "source": [
        "From cluster plot we can clearly see that males and females are in all the catgory that is high low and medium spending score category"
      ]
    },
    {
      "cell_type": "code",
      "execution_count": null,
      "metadata": {
        "colab": {
          "base_uri": "https://localhost:8080/"
        },
        "id": "ep-700YjPkHE",
        "outputId": "723fe31b-399a-4b0b-9839-8c166baa9258"
      },
      "outputs": [
        {
          "data": {
            "text/plain": [
              "1    112\n",
              "0     88\n",
              "Name: Gender, dtype: int64"
            ]
          },
          "execution_count": 12,
          "metadata": {},
          "output_type": "execute_result"
        }
      ],
      "source": [
        "data['Gender'].replace(['Male', 'Female'], [0, 1], inplace = True)\n",
        "data['Gender'].value_counts()"
      ]
    },
    {
      "cell_type": "code",
      "execution_count": null,
      "metadata": {
        "colab": {
          "base_uri": "https://localhost:8080/"
        },
        "id": "1eBCo36JP1-S",
        "outputId": "3cc91a29-a08f-4f27-802b-a2f77b6b1e88"
      },
      "outputs": [
        {
          "data": {
            "text/plain": [
              "(200, 2)"
            ]
          },
          "execution_count": 13,
          "metadata": {},
          "output_type": "execute_result"
        }
      ],
      "source": [
        "x = data.iloc[:, [1, 4]].values\n",
        "x.shape"
      ]
    },
    {
      "cell_type": "code",
      "execution_count": null,
      "metadata": {
        "colab": {
          "base_uri": "https://localhost:8080/",
          "height": 463
        },
        "id": "5Hha4xFUP4EW",
        "outputId": "9d961d60-47e5-439d-eba1-be9860705b83"
      },
      "outputs": [
        {
          "data": {
            "image/png": "[encoded data removed]",
            "text/plain": [
              "<Figure size 504x504 with 1 Axes>"
            ]
          },
          "metadata": {
            "needs_background": "light"
          },
          "output_type": "display_data"
        }
      ],
      "source": [
        "from sklearn.cluster import KMeans\n",
        "\n",
        "wcss = []\n",
        "for i in range(1, 11):\n",
        "  kmeans = KMeans(n_clusters = i, init = 'k-means++', max_iter = 300, n_init = 10, random_state = 0)\n",
        "  kmeans.fit(x)\n",
        "  wcss.append(kmeans.inertia_)\n",
        "  \n",
        "plt.rcParams['figure.figsize'] = (7, 7)\n",
        "plt.title('The Elbow Method', fontsize = 20)\n",
        "plt.plot(range(1, 11), wcss)\n",
        "plt.xlabel('No. of Clusters', fontsize = 10)\n",
        "plt.ylabel('wcss')\n",
        "plt.show()"
      ]
    },
    {
      "cell_type": "code",
      "execution_count": null,
      "metadata": {
        "colab": {
          "base_uri": "https://localhost:8080/",
          "height": 592
        },
        "id": "7vmLerloQEnL",
        "outputId": "d1c2b2fd-3f85-4c56-ca9b-cde47130037e"
      },
      "outputs": [
        {
          "data": {
            "image/png": "[encoded data removed]",
            "text/plain": [
              "<Figure size 720x720 with 1 Axes>"
            ]
          },
          "metadata": {
            "needs_background": "light"
          },
          "output_type": "display_data"
        }
      ],
      "source": [
        "kmeans = KMeans(n_clusters = 3, max_iter = 300, n_init = 10, random_state = 0)\n",
        "ymeans = kmeans.fit_predict(x)\n",
        "\n",
        "plt.rcParams['figure.figsize'] = (10, 10)\n",
        "plt.scatter(x[ymeans == 0, 0], x[ymeans == 0, 1], s = 80, c = 'pink', label = 'low spending score')\n",
        "plt.scatter(x[ymeans == 1, 0], x[ymeans == 1, 1], s = 80, c = 'orange', label = 'medium spending score')\n",
        "plt.scatter(x[ymeans == 2, 0], x[ymeans == 2, 1], s = 80, c = 'lightgreen', label = 'high spending score')\n",
        "plt.scatter(kmeans.cluster_centers_[:,0], kmeans.cluster_centers_[:, 1], s = 50, color = 'blue')\n",
        "plt.legend()\n",
        "plt.show()"
      ]
    },
    {
      "cell_type": "markdown",
      "metadata": {
        "id": "4IGR2ffQGIKM"
      },
      "source": [
        "**6.Find the outliers and replace them outliers**"
      ]
    },
    {
      "cell_type": "code",
      "execution_count": null,
      "metadata": {
        "colab": {
          "base_uri": "https://localhost:8080/"
        },
        "id": "fycKBpm0HGXs",
        "outputId": "b1e18edc-fa1d-4f15-d7b3-2512d284774f"
      },
      "outputs": [
        {
          "data": {
            "text/plain": [
              "0      <function median at 0x7f5371977cb0>\n",
              "1      <function median at 0x7f5371977cb0>\n",
              "2                                        6\n",
              "3      <function median at 0x7f5371977cb0>\n",
              "4      <function median at 0x7f5371977cb0>\n",
              "                      ...                 \n",
              "195    <function median at 0x7f5371977cb0>\n",
              "196    <function median at 0x7f5371977cb0>\n",
              "197    <function median at 0x7f5371977cb0>\n",
              "198    <function median at 0x7f5371977cb0>\n",
              "199    <function median at 0x7f5371977cb0>\n",
              "Name: Spending Score (1-100), Length: 200, dtype: object"
            ]
          },
          "execution_count": 14,
          "metadata": {},
          "output_type": "execute_result"
        }
      ],
      "source": [
        "data['Spending Score (1-100)']=np.where(data['Spending Score (1-100)']>10,np.median,data['Spending Score (1-100)'])\n",
        "data['Spending Score (1-100)']"
      ]
    },
    {
      "cell_type": "markdown",
      "metadata": {
        "id": "zYzGV68RHmPV"
      },
      "source": [
        "**7.Check for Categorical columns and perform encoding.**"
      ]
    },
    {
      "cell_type": "code",
      "execution_count": null,
      "metadata": {
        "colab": {
          "base_uri": "https://localhost:8080/"
        },
        "id": "XDwdV_pZHwnu",
        "outputId": "7e7caac4-2ed9-4e65-9e5c-d1fa3d59d0f3"
      },
      "outputs": [
        {
          "data": {
            "text/plain": [
              "Index(['CustomerID', 'Gender', 'Age', 'Annual Income (k$)',\n",
              "       'Spending Score (1-100)'],\n",
              "      dtype='object')"
            ]
          },
          "execution_count": 15,
          "metadata": {},
          "output_type": "execute_result"
        }
      ],
      "source": [
        "data.columns"
      ]
    },
    {
      "cell_type": "code",
      "execution_count": null,
      "metadata": {
        "colab": {
          "base_uri": "https://localhost:8080/",
          "height": 206
        },
        "id": "NZVHBUKbXCBU",
        "outputId": "3608f42f-38f5-48ee-b8a8-bd54f559a122"
      },
      "outputs": [
        {
          "data": {
            "text/html": [
              "\n",
              "  <div id=\"df-9ea1db3d-cd25-4999-b2c8-aca9232da875\">\n",
              "    <div class=\"colab-df-container\">\n",
              "      <div>\n",
              "<style scoped>\n",
              "    .dataframe tbody tr th:only-of-type {\n",
              "        vertical-align: middle;\n",
              "    }\n",
              "\n",
              "    .dataframe tbody tr th {\n",
              "        vertical-align: top;\n",
              "    }\n",
              "\n",
              "    .dataframe thead th {\n",
              "        text-align: right;\n",
              "    }\n",
              "</style>\n",
              "<table border=\"1\" class=\"dataframe\">\n",
              "  <thead>\n",
              "    <tr style=\"text-align: right;\">\n",
              "      <th></th>\n",
              "      <th>CustomerID</th>\n",
              "      <th>Gender</th>\n",
              "      <th>Age</th>\n",
              "      <th>Annual Income (k$)</th>\n",
              "      <th>Spending Score (1-100)</th>\n",
              "    </tr>\n",
              "  </thead>\n",
              "  <tbody>\n",
              "    <tr>\n",
              "      <th>0</th>\n",
              "      <td>0</td>\n",
              "      <td>Male</td>\n",
              "      <td>19</td>\n",
              "      <td>15</td>\n",
              "      <td>&lt;function median at 0x7f5371977cb0&gt;</td>\n",
              "    </tr>\n",
              "    <tr>\n",
              "      <th>1</th>\n",
              "      <td>1</td>\n",
              "      <td>Male</td>\n",
              "      <td>21</td>\n",
              "      <td>15</td>\n",
              "      <td>&lt;function median at 0x7f5371977cb0&gt;</td>\n",
              "    </tr>\n",
              "    <tr>\n",
              "      <th>2</th>\n",
              "      <td>2</td>\n",
              "      <td>Female</td>\n",
              "      <td>20</td>\n",
              "      <td>16</td>\n",
              "      <td>6</td>\n",
              "    </tr>\n",
              "    <tr>\n",
              "      <th>3</th>\n",
              "      <td>3</td>\n",
              "      <td>Female</td>\n",
              "      <td>23</td>\n",
              "      <td>16</td>\n",
              "      <td>&lt;function median at 0x7f5371977cb0&gt;</td>\n",
              "    </tr>\n",
              "    <tr>\n",
              "      <th>4</th>\n",
              "      <td>4</td>\n",
              "      <td>Female</td>\n",
              "      <td>31</td>\n",
              "      <td>17</td>\n",
              "      <td>&lt;function median at 0x7f5371977cb0&gt;</td>\n",
              "    </tr>\n",
              "  </tbody>\n",
              "</table>\n",
              "</div>\n",
              "      <button class=\"colab-df-convert\" onclick=\"convertToInteractive('df-9ea1db3d-cd25-4999-b2c8-aca9232da875')\"\n",
              "              title=\"Convert this dataframe to an interactive table.\"\n",
              "              style=\"display:none;\">\n",
              "        \n",
              "  <svg xmlns=\"http://www.w3.org/2000/svg\" height=\"24px\"viewBox=\"0 0 24 24\"\n",
              "       width=\"24px\">\n",
              "    <path d=\"M0 0h24v24H0V0z\" fill=\"none\"/>\n",
              "    <path d=\"M18.56 5.44l.94 2.06.94-2.06 2.06-.94-2.06-.94-.94-2.06-.94 2.06-2.06.94zm-11 1L8.5 8.5l.94-2.06 2.06-.94-2.06-.94L8.5 2.5l-.94 2.06-2.06.94zm10 10l.94 2.06.94-2.06 2.06-.94-2.06-.94-.94-2.06-.94 2.06-2.06.94z\"/><path d=\"M17.41 7.96l-1.37-1.37c-.4-.4-.92-.59-1.43-.59-.52 0-1.04.2-1.43.59L10.3 9.45l-7.72 7.72c-.78.78-.78 2.05 0 2.83L4 21.41c.39.39.9.59 1.41.59.51 0 1.02-.2 1.41-.59l7.78-7.78 2.81-2.81c.8-.78.8-2.07 0-2.86zM5.41 20L4 18.59l7.72-7.72 1.47 1.35L5.41 20z\"/>\n",
              "  </svg>\n",
              "      </button>\n",
              "      \n",
              "  <style>\n",
              "    .colab-df-container {\n",
              "      display:flex;\n",
              "      flex-wrap:wrap;\n",
              "      gap: 12px;\n",
              "    }\n",
              "\n",
              "    .colab-df-convert {\n",
              "      background-color: #E8F0FE;\n",
              "      border: none;\n",
              "      border-radius: 50%;\n",
              "      cursor: pointer;\n",
              "      display: none;\n",
              "      fill: #1967D2;\n",
              "      height: 32px;\n",
              "      padding: 0 0 0 0;\n",
              "      width: 32px;\n",
              "    }\n",
              "\n",
              "    .colab-df-convert:hover {\n",
              "      background-color: #E2EBFA;\n",
              "      box-shadow: 0px 1px 2px rgba(60, 64, 67, 0.3), 0px 1px 3px 1px rgba(60, 64, 67, 0.15);\n",
              "      fill: #174EA6;\n",
              "    }\n",
              "\n",
              "    [theme=dark] .colab-df-convert {\n",
              "      background-color: #3B4455;\n",
              "      fill: #D2E3FC;\n",
              "    }\n",
              "\n",
              "    [theme=dark] .colab-df-convert:hover {\n",
              "      background-color: #434B5C;\n",
              "      box-shadow: 0px 1px 3px 1px rgba(0, 0, 0, 0.15);\n",
              "      filter: drop-shadow(0px 1px 2px rgba(0, 0, 0, 0.3));\n",
              "      fill: #FFFFFF;\n",
              "    }\n",
              "  </style>\n",
              "\n",
              "      <script>\n",
              "        const buttonEl =\n",
              "          document.querySelector('#df-9ea1db3d-cd25-4999-b2c8-aca9232da875 button.colab-df-convert');\n",
              "        buttonEl.style.display =\n",
              "          google.colab.kernel.accessAllowed ? 'block' : 'none';\n",
              "\n",
              "        async function convertToInteractive(key) {\n",
              "          const element = document.querySelector('#df-9ea1db3d-cd25-4999-b2c8-aca9232da875');\n",
              "          const dataTable =\n",
              "            await google.colab.kernel.invokeFunction('convertToInteractive',\n",
              "                                                     [key], {});\n",
              "          if (!dataTable) return;\n",
              "\n",
              "          const docLinkHtml = 'Like what you see? Visit the ' +\n",
              "            '<a target=\"_blank\" href=https://colab.research.google.com/notebooks/data_table.ipynb>data table notebook</a>'\n",
              "            + ' to learn more about interactive tables.';\n",
              "          element.innerHTML = '';\n",
              "          dataTable['output_type'] = 'display_data';\n",
              "          await google.colab.output.renderOutput(dataTable, element);\n",
              "          const docLink = document.createElement('div');\n",
              "          docLink.innerHTML = docLinkHtml;\n",
              "          element.appendChild(docLink);\n",
              "        }\n",
              "      </script>\n",
              "    </div>\n",
              "  </div>\n",
              "  "
            ],
            "text/plain": [
              "   CustomerID  Gender  Age  Annual Income (k$)  \\\n",
              "0           0    Male   19                  15   \n",
              "1           1    Male   21                  15   \n",
              "2           2  Female   20                  16   \n",
              "3           3  Female   23                  16   \n",
              "4           4  Female   31                  17   \n",
              "\n",
              "                Spending Score (1-100)  \n",
              "0  <function median at 0x7f5371977cb0>  \n",
              "1  <function median at 0x7f5371977cb0>  \n",
              "2                                    6  \n",
              "3  <function median at 0x7f5371977cb0>  \n",
              "4  <function median at 0x7f5371977cb0>  "
            ]
          },
          "execution_count": 16,
          "metadata": {},
          "output_type": "execute_result"
        }
      ],
      "source": [
        "from sklearn.preprocessing import LabelEncoder\n",
        "encoder=LabelEncoder() \n",
        "data['CustomerID'] = encoder.fit_transform(data['CustomerID'])\n",
        "\n",
        "data.head()"
      ]
    },
    {
      "cell_type": "markdown",
      "metadata": {
        "id": "I88DNiJNIwZ3"
      },
      "source": [
        "**8.Scaling the data**"
      ]
    },
    {
      "cell_type": "code",
      "execution_count": null,
      "metadata": {
        "colab": {
          "base_uri": "https://localhost:8080/"
        },
        "id": "unvOCQeLY7fr",
        "outputId": "ab5d512b-5d5c-4a34-f16a-51d121b2277b"
      },
      "outputs": [
        {
          "name": "stdout",
          "output_type": "stream",
          "text": [
            "[[-1.7234121  -1.12815215 -1.42456879 -1.73899919 -0.43480148]\n",
            " [-1.70609137 -1.12815215 -1.28103541 -1.73899919  1.19570407]\n",
            " [-1.68877065  0.88640526 -1.3528021  -1.70082976 -1.71591298]\n",
            " [-1.67144992  0.88640526 -1.13750203 -1.70082976  1.04041783]\n",
            " [-1.6541292   0.88640526 -0.56336851 -1.66266033 -0.39597992]\n",
            " [-1.63680847  0.88640526 -1.20926872 -1.66266033  1.00159627]\n",
            " [-1.61948775  0.88640526 -0.27630176 -1.62449091 -1.71591298]\n",
            " [-1.60216702  0.88640526 -1.13750203 -1.62449091  1.70038436]\n",
            " [-1.5848463  -1.12815215  1.80493225 -1.58632148 -1.83237767]\n",
            " [-1.56752558  0.88640526 -0.6351352  -1.58632148  0.84631002]\n",
            " [-1.55020485 -1.12815215  2.02023231 -1.58632148 -1.4053405 ]\n",
            " [-1.53288413  0.88640526 -0.27630176 -1.58632148  1.89449216]\n",
            " [-1.5155634   0.88640526  1.37433211 -1.54815205 -1.36651894]\n",
            " [-1.49824268  0.88640526 -1.06573534 -1.54815205  1.04041783]\n",
            " [-1.48092195 -1.12815215 -0.13276838 -1.54815205 -1.44416206]\n",
            " [-1.46360123 -1.12815215 -1.20926872 -1.54815205  1.11806095]\n",
            " [-1.4462805   0.88640526 -0.27630176 -1.50998262 -0.59008772]\n",
            " [-1.42895978 -1.12815215 -1.3528021  -1.50998262  0.61338066]\n",
            " [-1.41163905 -1.12815215  0.94373197 -1.43364376 -0.82301709]\n",
            " [-1.39431833  0.88640526 -0.27630176 -1.43364376  1.8556706 ]\n",
            " [-1.3769976  -1.12815215 -0.27630176 -1.39547433 -0.59008772]\n",
            " [-1.35967688 -1.12815215 -0.99396865 -1.39547433  0.88513158]\n",
            " [-1.34235616  0.88640526  0.51313183 -1.3573049  -1.75473454]\n",
            " [-1.32503543 -1.12815215 -0.56336851 -1.3573049   0.88513158]\n",
            " [-1.30771471  0.88640526  1.08726535 -1.24279661 -1.4053405 ]\n",
            " [-1.29039398 -1.12815215 -0.70690189 -1.24279661  1.23452563]\n",
            " [-1.27307326  0.88640526  0.44136514 -1.24279661 -0.7065524 ]\n",
            " [-1.25575253 -1.12815215 -0.27630176 -1.24279661  0.41927286]\n",
            " [-1.23843181  0.88640526  0.08253169 -1.20462718 -0.74537397]\n",
            " [-1.22111108  0.88640526 -1.13750203 -1.20462718  1.42863343]\n",
            " [-1.20379036 -1.12815215  1.51786549 -1.16645776 -1.7935561 ]\n",
            " [-1.18646963  0.88640526 -1.28103541 -1.16645776  0.88513158]\n",
            " [-1.16914891 -1.12815215  1.01549866 -1.05194947 -1.7935561 ]\n",
            " [-1.15182818 -1.12815215 -1.49633548 -1.05194947  1.62274124]\n",
            " [-1.13450746  0.88640526  0.7284319  -1.05194947 -1.4053405 ]\n",
            " [-1.11718674  0.88640526 -1.28103541 -1.05194947  1.19570407]\n",
            " [-1.09986601  0.88640526  0.22606507 -1.01378004 -1.28887582]\n",
            " [-1.08254529  0.88640526 -0.6351352  -1.01378004  0.88513158]\n",
            " [-1.06522456  0.88640526 -0.20453507 -0.89927175 -0.93948177]\n",
            " [-1.04790384  0.88640526 -1.3528021  -0.89927175  0.96277471]\n",
            " [-1.03058311  0.88640526  1.87669894 -0.86110232 -0.59008772]\n",
            " [-1.01326239 -1.12815215 -1.06573534 -0.86110232  1.62274124]\n",
            " [-0.99594166 -1.12815215  0.65666521 -0.82293289 -0.55126616]\n",
            " [-0.97862094  0.88640526 -0.56336851 -0.82293289  0.41927286]\n",
            " [-0.96130021  0.88640526  0.7284319  -0.82293289 -0.86183865]\n",
            " [-0.94397949  0.88640526 -1.06573534 -0.82293289  0.5745591 ]\n",
            " [-0.92665877  0.88640526  0.80019859 -0.78476346  0.18634349]\n",
            " [-0.90933804  0.88640526 -0.85043527 -0.78476346 -0.12422899]\n",
            " [-0.89201732  0.88640526 -0.70690189 -0.78476346 -0.3183368 ]\n",
            " [-0.87469659  0.88640526 -0.56336851 -0.78476346 -0.3183368 ]\n",
            " [-0.85737587  0.88640526  0.7284319  -0.70842461  0.06987881]\n",
            " [-0.84005514 -1.12815215 -0.41983513 -0.70842461  0.38045129]\n",
            " [-0.82273442  0.88640526 -0.56336851 -0.67025518  0.14752193]\n",
            " [-0.80541369 -1.12815215  1.4460988  -0.67025518  0.38045129]\n",
            " [-0.78809297  0.88640526  0.80019859 -0.67025518 -0.20187212]\n",
            " [-0.77077224 -1.12815215  0.58489852 -0.67025518 -0.35715836]\n",
            " [-0.75345152  0.88640526  0.87196528 -0.63208575 -0.00776431]\n",
            " [-0.73613079 -1.12815215  2.16376569 -0.63208575 -0.16305055]\n",
            " [-0.71881007  0.88640526 -0.85043527 -0.55574689  0.03105725]\n",
            " [-0.70148935 -1.12815215  1.01549866 -0.55574689 -0.16305055]\n",
            " [-0.68416862 -1.12815215  2.23553238 -0.55574689  0.22516505]\n",
            " [-0.6668479  -1.12815215 -1.42456879 -0.55574689  0.18634349]\n",
            " [-0.64952717  0.88640526  2.02023231 -0.51757746  0.06987881]\n",
            " [-0.63220645  0.88640526  1.08726535 -0.51757746  0.34162973]\n",
            " [-0.61488572 -1.12815215  1.73316556 -0.47940803  0.03105725]\n",
            " [-0.597565   -1.12815215 -1.49633548 -0.47940803  0.34162973]\n",
            " [-0.58024427  0.88640526  0.29783176 -0.47940803 -0.00776431]\n",
            " [-0.56292355  0.88640526  2.091999   -0.47940803 -0.08540743]\n",
            " [-0.54560282 -1.12815215 -1.42456879 -0.47940803  0.34162973]\n",
            " [-0.5282821   0.88640526 -0.49160182 -0.47940803 -0.12422899]\n",
            " [-0.51096138 -1.12815215  2.23553238 -0.4412386   0.18634349]\n",
            " [-0.49364065  0.88640526  0.58489852 -0.4412386  -0.3183368 ]\n",
            " [-0.47631993  0.88640526  1.51786549 -0.40306917 -0.04658587]\n",
            " [-0.4589992   0.88640526  1.51786549 -0.40306917  0.22516505]\n",
            " [-0.44167848 -1.12815215  1.4460988  -0.25039146 -0.12422899]\n",
            " [-0.42435775 -1.12815215 -0.92220196 -0.25039146  0.14752193]\n",
            " [-0.40703703  0.88640526  0.44136514 -0.25039146  0.10870037]\n",
            " [-0.3897163  -1.12815215  0.08253169 -0.25039146 -0.08540743]\n",
            " [-0.37239558  0.88640526 -1.13750203 -0.25039146  0.06987881]\n",
            " [-0.35507485  0.88640526  0.7284319  -0.25039146 -0.3183368 ]\n",
            " [-0.33775413 -1.12815215  1.30256542 -0.25039146  0.03105725]\n",
            " [-0.3204334  -1.12815215 -0.06100169 -0.25039146  0.18634349]\n",
            " [-0.30311268 -1.12815215  2.02023231 -0.25039146 -0.35715836]\n",
            " [-0.28579196  0.88640526  0.51313183 -0.25039146 -0.24069368]\n",
            " [-0.26847123  0.88640526 -1.28103541 -0.25039146  0.26398661]\n",
            " [-0.25115051 -1.12815215  0.65666521 -0.25039146 -0.16305055]\n",
            " [-0.23382978  0.88640526  1.15903204 -0.13588317  0.30280817]\n",
            " [-0.21650906  0.88640526 -1.20926872 -0.13588317  0.18634349]\n",
            " [-0.19918833  0.88640526 -0.34806844 -0.09771374  0.38045129]\n",
            " [-0.18186761  0.88640526  0.80019859 -0.09771374 -0.16305055]\n",
            " [-0.16454688  0.88640526  2.091999   -0.05954431  0.18634349]\n",
            " [-0.14722616 -1.12815215 -1.49633548 -0.05954431 -0.35715836]\n",
            " [-0.12990543 -1.12815215  0.65666521 -0.02137488 -0.04658587]\n",
            " [-0.11258471  0.88640526  0.08253169 -0.02137488 -0.39597992]\n",
            " [-0.09526399  0.88640526 -0.49160182 -0.02137488 -0.3183368 ]\n",
            " [-0.07794326 -1.12815215 -1.06573534 -0.02137488  0.06987881]\n",
            " [-0.06062254  0.88640526  0.58489852 -0.02137488 -0.12422899]\n",
            " [-0.04330181  0.88640526 -0.85043527 -0.02137488 -0.00776431]\n",
            " [-0.02598109 -1.12815215  0.65666521  0.01679455 -0.3183368 ]\n",
            " [-0.00866036 -1.12815215 -1.3528021   0.01679455 -0.04658587]\n",
            " [ 0.00866036  0.88640526 -1.13750203  0.05496398 -0.35715836]\n",
            " [ 0.02598109  0.88640526  0.7284319   0.05496398 -0.08540743]\n",
            " [ 0.04330181 -1.12815215  2.02023231  0.05496398  0.34162973]\n",
            " [ 0.06062254 -1.12815215 -0.92220196  0.05496398  0.18634349]\n",
            " [ 0.07794326 -1.12815215  0.7284319   0.05496398  0.22516505]\n",
            " [ 0.09526399  0.88640526 -1.28103541  0.05496398 -0.3183368 ]\n",
            " [ 0.11258471  0.88640526  1.94846562  0.09313341 -0.00776431]\n",
            " [ 0.12990543 -1.12815215  1.08726535  0.09313341 -0.16305055]\n",
            " [ 0.14722616 -1.12815215  2.091999    0.09313341 -0.27951524]\n",
            " [ 0.16454688 -1.12815215  1.94846562  0.09313341 -0.08540743]\n",
            " [ 0.18186761 -1.12815215  1.87669894  0.09313341  0.06987881]\n",
            " [ 0.19918833  0.88640526 -1.42456879  0.09313341  0.14752193]\n",
            " [ 0.21650906  0.88640526 -0.06100169  0.13130284 -0.3183368 ]\n",
            " [ 0.23382978 -1.12815215 -1.42456879  0.13130284 -0.16305055]\n",
            " [ 0.25115051  0.88640526 -1.49633548  0.16947227 -0.08540743]\n",
            " [ 0.26847123  0.88640526 -1.42456879  0.16947227 -0.00776431]\n",
            " [ 0.28579196  0.88640526  1.73316556  0.16947227 -0.27951524]\n",
            " [ 0.30311268  0.88640526  0.7284319   0.16947227  0.34162973]\n",
            " [ 0.3204334   0.88640526  0.87196528  0.24581112 -0.27951524]\n",
            " [ 0.33775413  0.88640526  0.80019859  0.24581112  0.26398661]\n",
            " [ 0.35507485 -1.12815215 -0.85043527  0.24581112  0.22516505]\n",
            " [ 0.37239558  0.88640526 -0.06100169  0.24581112 -0.39597992]\n",
            " [ 0.3897163   0.88640526  0.08253169  0.32214998  0.30280817]\n",
            " [ 0.40703703 -1.12815215  0.010765    0.32214998  1.58391968]\n",
            " [ 0.42435775  0.88640526 -1.13750203  0.36031941 -0.82301709]\n",
            " [ 0.44167848  0.88640526 -0.56336851  0.36031941  1.04041783]\n",
            " [ 0.4589992  -1.12815215  0.29783176  0.39848884 -0.59008772]\n",
            " [ 0.47631993 -1.12815215  0.08253169  0.39848884  1.73920592]\n",
            " [ 0.49364065 -1.12815215  1.4460988   0.39848884 -1.52180518]\n",
            " [ 0.51096138 -1.12815215 -0.06100169  0.39848884  0.96277471]\n",
            " [ 0.5282821  -1.12815215  0.58489852  0.39848884 -1.5994483 ]\n",
            " [ 0.54560282 -1.12815215  0.010765    0.39848884  0.96277471]\n",
            " [ 0.56292355  0.88640526 -0.99396865  0.43665827 -0.62890928]\n",
            " [ 0.58024427  0.88640526 -0.56336851  0.43665827  0.80748846]\n",
            " [ 0.597565   -1.12815215 -1.3528021   0.4748277  -1.75473454]\n",
            " [ 0.61488572  0.88640526 -0.70690189  0.4748277   1.46745499]\n",
            " [ 0.63220645  0.88640526  0.36959845  0.4748277  -1.67709142]\n",
            " [ 0.64952717 -1.12815215 -0.49160182  0.4748277   0.88513158]\n",
            " [ 0.6668479  -1.12815215 -1.42456879  0.51299713 -1.56062674]\n",
            " [ 0.68416862  0.88640526 -0.27630176  0.51299713  0.84631002]\n",
            " [ 0.70148935  0.88640526  1.30256542  0.55116656 -1.75473454]\n",
            " [ 0.71881007 -1.12815215 -0.49160182  0.55116656  1.6615628 ]\n",
            " [ 0.73613079  0.88640526 -0.77866858  0.58933599 -0.39597992]\n",
            " [ 0.75345152  0.88640526 -0.49160182  0.58933599  1.42863343]\n",
            " [ 0.77077224 -1.12815215 -0.99396865  0.62750542 -1.48298362]\n",
            " [ 0.78809297 -1.12815215 -0.77866858  0.62750542  1.81684904]\n",
            " [ 0.80541369 -1.12815215  0.65666521  0.62750542 -0.55126616]\n",
            " [ 0.82273442  0.88640526 -0.49160182  0.62750542  0.92395314]\n",
            " [ 0.84005514  0.88640526 -0.34806844  0.66567484 -1.09476801]\n",
            " [ 0.85737587 -1.12815215 -0.34806844  0.66567484  1.54509812]\n",
            " [ 0.87469659 -1.12815215  0.29783176  0.66567484 -1.28887582]\n",
            " [ 0.89201732 -1.12815215  0.010765    0.66567484  1.46745499]\n",
            " [ 0.90933804  0.88640526  0.36959845  0.66567484 -1.17241113]\n",
            " [ 0.92665877  0.88640526 -0.06100169  0.66567484  1.00159627]\n",
            " [ 0.94397949  0.88640526  0.58489852  0.66567484 -1.32769738]\n",
            " [ 0.96130021  0.88640526 -0.85043527  0.66567484  1.50627656]\n",
            " [ 0.97862094 -1.12815215 -0.13276838  0.66567484 -1.91002079]\n",
            " [ 0.99594166  0.88640526 -0.6351352   0.66567484  1.07923939]\n",
            " [ 1.01326239 -1.12815215 -0.34806844  0.66567484 -1.91002079]\n",
            " [ 1.03058311  0.88640526 -0.6351352   0.66567484  0.88513158]\n",
            " [ 1.04790384  0.88640526  1.23079873  0.70384427 -0.59008772]\n",
            " [ 1.06522456  0.88640526 -0.70690189  0.70384427  1.27334719]\n",
            " [ 1.08254529 -1.12815215 -1.42456879  0.78018313 -1.75473454]\n",
            " [ 1.09986601  0.88640526 -0.56336851  0.78018313  1.6615628 ]\n",
            " [ 1.11718674 -1.12815215  0.80019859  0.93286085 -0.93948177]\n",
            " [ 1.13450746  0.88640526 -0.20453507  0.93286085  0.96277471]\n",
            " [ 1.15182818 -1.12815215  0.22606507  0.97103028 -1.17241113]\n",
            " [ 1.16914891  0.88640526 -0.41983513  0.97103028  1.73920592]\n",
            " [ 1.18646963  0.88640526 -0.20453507  1.00919971 -0.90066021]\n",
            " [ 1.20379036 -1.12815215 -0.49160182  1.00919971  0.49691598]\n",
            " [ 1.22111108 -1.12815215  0.08253169  1.00919971 -1.44416206]\n",
            " [ 1.23843181 -1.12815215 -0.77866858  1.00919971  0.96277471]\n",
            " [ 1.25575253 -1.12815215 -0.20453507  1.00919971 -1.56062674]\n",
            " [ 1.27307326 -1.12815215 -0.20453507  1.00919971  1.62274124]\n",
            " [ 1.29039398  0.88640526  0.94373197  1.04736914 -1.44416206]\n",
            " [ 1.30771471  0.88640526 -0.6351352   1.04736914  1.38981187]\n",
            " [ 1.32503543 -1.12815215  1.37433211  1.04736914 -1.36651894]\n",
            " [ 1.34235616 -1.12815215 -0.85043527  1.04736914  0.72984534]\n",
            " [ 1.35967688 -1.12815215  1.4460988   1.23821628 -1.4053405 ]\n",
            " [ 1.3769976  -1.12815215 -0.27630176  1.23821628  1.54509812]\n",
            " [ 1.39431833  0.88640526 -0.13276838  1.390894   -0.7065524 ]\n",
            " [ 1.41163905  0.88640526 -0.49160182  1.390894    1.38981187]\n",
            " [ 1.42895978 -1.12815215  0.51313183  1.42906343 -1.36651894]\n",
            " [ 1.4462805   0.88640526 -0.70690189  1.42906343  1.46745499]\n",
            " [ 1.46360123  0.88640526  0.15429838  1.46723286 -0.43480148]\n",
            " [ 1.48092195 -1.12815215 -0.6351352   1.46723286  1.81684904]\n",
            " [ 1.49824268  0.88640526  1.08726535  1.54357172 -1.01712489]\n",
            " [ 1.5155634  -1.12815215 -0.77866858  1.54357172  0.69102378]\n",
            " [ 1.53288413  0.88640526  0.15429838  1.61991057 -1.28887582]\n",
            " [ 1.55020485  0.88640526 -0.20453507  1.61991057  1.35099031]\n",
            " [ 1.56752558  0.88640526 -0.34806844  1.61991057 -1.05594645]\n",
            " [ 1.5848463   0.88640526 -0.49160182  1.61991057  0.72984534]\n",
            " [ 1.60216702 -1.12815215 -0.41983513  2.00160487 -1.63826986]\n",
            " [ 1.61948775  0.88640526 -0.06100169  2.00160487  1.58391968]\n",
            " [ 1.63680847  0.88640526  0.58489852  2.26879087 -1.32769738]\n",
            " [ 1.6541292   0.88640526 -0.27630176  2.26879087  1.11806095]\n",
            " [ 1.67144992  0.88640526  0.44136514  2.49780745 -0.86183865]\n",
            " [ 1.68877065 -1.12815215 -0.49160182  2.49780745  0.92395314]\n",
            " [ 1.70609137 -1.12815215 -0.49160182  2.91767117 -1.25005425]\n",
            " [ 1.7234121  -1.12815215 -0.6351352   2.91767117  1.27334719]]\n"
          ]
        }
      ],
      "source": [
        "from sklearn.preprocessing import StandardScaler\n",
        "df=StandardScaler()\n",
        "data1=df.fit_transform(data)\n",
        "print(data1)"
      ]
    },
    {
      "cell_type": "markdown",
      "metadata": {
        "id": "-cXOHLN8up03"
      },
      "source": [
        "**11. Split the data into dependent and independent\n",
        "variables.**\n"
      ]
    },
    {
      "cell_type": "markdown",
      "metadata": {
        "id": "4PpKnqwiu62j"
      },
      "source": [
        "11.1 Split the data in to Independent variables."
      ]
    },
    {
      "cell_type": "code",
      "execution_count": null,
      "metadata": {
        "colab": {
          "base_uri": "https://localhost:8080/"
        },
        "id": "ZpyCb68NvGoB",
        "outputId": "9dcffd04-9d86-4b83-c5bd-d3eb8e0bb3da"
      },
      "outputs": [
        {
          "name": "stdout",
          "output_type": "stream",
          "text": [
            "[[ 15  39]\n",
            " [ 15  81]\n",
            " [ 16   6]\n",
            " [ 16  77]\n",
            " [ 17  40]\n",
            " [ 17  76]\n",
            " [ 18   6]\n",
            " [ 18  94]\n",
            " [ 19   3]\n",
            " [ 19  72]\n",
            " [ 19  14]\n",
            " [ 19  99]\n",
            " [ 20  15]\n",
            " [ 20  77]\n",
            " [ 20  13]\n",
            " [ 20  79]\n",
            " [ 21  35]\n",
            " [ 21  66]\n",
            " [ 23  29]\n",
            " [ 23  98]\n",
            " [ 24  35]\n",
            " [ 24  73]\n",
            " [ 25   5]\n",
            " [ 25  73]\n",
            " [ 28  14]\n",
            " [ 28  82]\n",
            " [ 28  32]\n",
            " [ 28  61]\n",
            " [ 29  31]\n",
            " [ 29  87]\n",
            " [ 30   4]\n",
            " [ 30  73]\n",
            " [ 33   4]\n",
            " [ 33  92]\n",
            " [ 33  14]\n",
            " [ 33  81]\n",
            " [ 34  17]\n",
            " [ 34  73]\n",
            " [ 37  26]\n",
            " [ 37  75]\n",
            " [ 38  35]\n",
            " [ 38  92]\n",
            " [ 39  36]\n",
            " [ 39  61]\n",
            " [ 39  28]\n",
            " [ 39  65]\n",
            " [ 40  55]\n",
            " [ 40  47]\n",
            " [ 40  42]\n",
            " [ 40  42]\n",
            " [ 42  52]\n",
            " [ 42  60]\n",
            " [ 43  54]\n",
            " [ 43  60]\n",
            " [ 43  45]\n",
            " [ 43  41]\n",
            " [ 44  50]\n",
            " [ 44  46]\n",
            " [ 46  51]\n",
            " [ 46  46]\n",
            " [ 46  56]\n",
            " [ 46  55]\n",
            " [ 47  52]\n",
            " [ 47  59]\n",
            " [ 48  51]\n",
            " [ 48  59]\n",
            " [ 48  50]\n",
            " [ 48  48]\n",
            " [ 48  59]\n",
            " [ 48  47]\n",
            " [ 49  55]\n",
            " [ 49  42]\n",
            " [ 50  49]\n",
            " [ 50  56]\n",
            " [ 54  47]\n",
            " [ 54  54]\n",
            " [ 54  53]\n",
            " [ 54  48]\n",
            " [ 54  52]\n",
            " [ 54  42]\n",
            " [ 54  51]\n",
            " [ 54  55]\n",
            " [ 54  41]\n",
            " [ 54  44]\n",
            " [ 54  57]\n",
            " [ 54  46]\n",
            " [ 57  58]\n",
            " [ 57  55]\n",
            " [ 58  60]\n",
            " [ 58  46]\n",
            " [ 59  55]\n",
            " [ 59  41]\n",
            " [ 60  49]\n",
            " [ 60  40]\n",
            " [ 60  42]\n",
            " [ 60  52]\n",
            " [ 60  47]\n",
            " [ 60  50]\n",
            " [ 61  42]\n",
            " [ 61  49]\n",
            " [ 62  41]\n",
            " [ 62  48]\n",
            " [ 62  59]\n",
            " [ 62  55]\n",
            " [ 62  56]\n",
            " [ 62  42]\n",
            " [ 63  50]\n",
            " [ 63  46]\n",
            " [ 63  43]\n",
            " [ 63  48]\n",
            " [ 63  52]\n",
            " [ 63  54]\n",
            " [ 64  42]\n",
            " [ 64  46]\n",
            " [ 65  48]\n",
            " [ 65  50]\n",
            " [ 65  43]\n",
            " [ 65  59]\n",
            " [ 67  43]\n",
            " [ 67  57]\n",
            " [ 67  56]\n",
            " [ 67  40]\n",
            " [ 69  58]\n",
            " [ 69  91]\n",
            " [ 70  29]\n",
            " [ 70  77]\n",
            " [ 71  35]\n",
            " [ 71  95]\n",
            " [ 71  11]\n",
            " [ 71  75]\n",
            " [ 71   9]\n",
            " [ 71  75]\n",
            " [ 72  34]\n",
            " [ 72  71]\n",
            " [ 73   5]\n",
            " [ 73  88]\n",
            " [ 73   7]\n",
            " [ 73  73]\n",
            " [ 74  10]\n",
            " [ 74  72]\n",
            " [ 75   5]\n",
            " [ 75  93]\n",
            " [ 76  40]\n",
            " [ 76  87]\n",
            " [ 77  12]\n",
            " [ 77  97]\n",
            " [ 77  36]\n",
            " [ 77  74]\n",
            " [ 78  22]\n",
            " [ 78  90]\n",
            " [ 78  17]\n",
            " [ 78  88]\n",
            " [ 78  20]\n",
            " [ 78  76]\n",
            " [ 78  16]\n",
            " [ 78  89]\n",
            " [ 78   1]\n",
            " [ 78  78]\n",
            " [ 78   1]\n",
            " [ 78  73]\n",
            " [ 79  35]\n",
            " [ 79  83]\n",
            " [ 81   5]\n",
            " [ 81  93]\n",
            " [ 85  26]\n",
            " [ 85  75]\n",
            " [ 86  20]\n",
            " [ 86  95]\n",
            " [ 87  27]\n",
            " [ 87  63]\n",
            " [ 87  13]\n",
            " [ 87  75]\n",
            " [ 87  10]\n",
            " [ 87  92]\n",
            " [ 88  13]\n",
            " [ 88  86]\n",
            " [ 88  15]\n",
            " [ 88  69]\n",
            " [ 93  14]\n",
            " [ 93  90]\n",
            " [ 97  32]\n",
            " [ 97  86]\n",
            " [ 98  15]\n",
            " [ 98  88]\n",
            " [ 99  39]\n",
            " [ 99  97]\n",
            " [101  24]\n",
            " [101  68]\n",
            " [103  17]\n",
            " [103  85]\n",
            " [103  23]\n",
            " [103  69]\n",
            " [113   8]\n",
            " [113  91]\n",
            " [120  16]\n",
            " [120  79]\n",
            " [126  28]\n",
            " [126  74]\n",
            " [137  18]\n",
            " [137  83]]\n"
          ]
        }
      ],
      "source": [
        "X = data.iloc[:, [3, 4]].values\n",
        "X.shape\n",
        "\n",
        "print(X)"
      ]
    },
    {
      "cell_type": "markdown",
      "metadata": {
        "id": "oKpsdFTzvRmf"
      },
      "source": [
        "11.2 Split the data in to Dependent variables."
      ]
    },
    {
      "cell_type": "code",
      "execution_count": null,
      "metadata": {
        "colab": {
          "base_uri": "https://localhost:8080/"
        },
        "id": "HZti0cfSvMRa",
        "outputId": "590b9bdc-0159-41eb-95e8-cbdb1c61cf48"
      },
      "outputs": [
        {
          "name": "stdout",
          "output_type": "stream",
          "text": [
            "[ 15  15  16  16  17  17  18  18  19  19  19  19  20  20  20  20  21  21\n",
            "  23  23  24  24  25  25  28  28  28  28  29  29  30  30  33  33  33  33\n",
            "  34  34  37  37  38  38  39  39  39  39  40  40  40  40  42  42  43  43\n",
            "  43  43  44  44  46  46  46  46  47  47  48  48  48  48  48  48  49  49\n",
            "  50  50  54  54  54  54  54  54  54  54  54  54  54  54  57  57  58  58\n",
            "  59  59  60  60  60  60  60  60  61  61  62  62  62  62  62  62  63  63\n",
            "  63  63  63  63  64  64  65  65  65  65  67  67  67  67  69  69  70  70\n",
            "  71  71  71  71  71  71  72  72  73  73  73  73  74  74  75  75  76  76\n",
            "  77  77  77  77  78  78  78  78  78  78  78  78  78  78  78  78  79  79\n",
            "  81  81  85  85  86  86  87  87  87  87  87  87  88  88  88  88  93  93\n",
            "  97  97  98  98  99  99 101 101 103 103 103 103 113 113 120 120 126 126\n",
            " 137 137]\n"
          ]
        }
      ],
      "source": [
        "y=data.iloc[:,-2].values\n",
        "print(y)"
      ]
    },
    {
      "cell_type": "markdown",
      "metadata": {
        "id": "97woDN-2vyX0"
      },
      "source": [
        "**12.Split the data into training and testing**"
      ]
    },
    {
      "cell_type": "code",
      "execution_count": null,
      "metadata": {
        "colab": {
          "base_uri": "https://localhost:8080/"
        },
        "id": "-l7LH5LETvGo",
        "outputId": "663f9799-3de7-41f7-b4ab-0bff263fd79d"
      },
      "outputs": [
        {
          "name": "stdout",
          "output_type": "stream",
          "text": [
            "Shape of x_train : (160, 2)\n",
            "Shape of x_test : (40, 2)\n",
            "Shape of y_train : (160,)\n",
            "Shape of y_test : (40,)\n"
          ]
        }
      ],
      "source": [
        "\n",
        "from sklearn.model_selection import train_test_split\n",
        "\n",
        "X_train, X_test, y_train, y_test = train_test_split(X, y, test_size = 0.2, random_state = 0)\n",
        "\n",
        "# getting the shapes\n",
        "print(\"Shape of x_train :\", X_train.shape)\n",
        "print(\"Shape of x_test :\", X_test.shape)\n",
        "print(\"Shape of y_train :\", y_train.shape)\n",
        "print(\"Shape of y_test :\", y_test.shape)"
      ]
    },
    {
      "cell_type": "markdown",
      "metadata": {
        "id": "Gg3LV4lowBXg"
      },
      "source": [
        "**13.Build the model**"
      ]
    },
    {
      "cell_type": "code",
      "execution_count": null,
      "metadata": {
        "id": "HCD_7NpQwOKJ"
      },
      "outputs": [],
      "source": [
        "test_size=0.33\n",
        "seed=7\n",
        "X_train,X_test,y_train,y_test=train_test_split(X,y,test_size=test_size,random_state=seed)"
      ]
    },
    {
      "cell_type": "markdown",
      "metadata": {
        "id": "ZlZBPtTnwYKB"
      },
      "source": [
        "**14.Train the Model**"
      ]
    },
    {
      "cell_type": "code",
      "execution_count": null,
      "metadata": {
        "colab": {
          "base_uri": "https://localhost:8080/"
        },
        "id": "b-ywigu7wcLI",
        "outputId": "52960fde-c661-4bc9-e5ad-fbaae5d26e86"
      },
      "outputs": [
        {
          "name": "stdout",
          "output_type": "stream",
          "text": [
            "[[ 98  15]\n",
            " [ 42  60]\n",
            " [ 99  39]\n",
            " [ 75   5]\n",
            " [ 54  41]\n",
            " [ 65  50]\n",
            " [ 60  52]\n",
            " [ 34  73]\n",
            " [ 72  34]\n",
            " [ 62  59]\n",
            " [ 61  42]\n",
            " [ 40  42]\n",
            " [ 17  76]\n",
            " [ 21  66]\n",
            " [ 78   1]\n",
            " [ 87  27]\n",
            " [137  83]\n",
            " [120  16]\n",
            " [ 47  52]\n",
            " [ 48  51]\n",
            " [ 28  32]\n",
            " [ 78  22]\n",
            " [ 38  92]\n",
            " [ 43  54]\n",
            " [ 93  90]\n",
            " [ 54  55]\n",
            " [ 18  94]\n",
            " [ 59  41]\n",
            " [ 87  92]\n",
            " [ 78  17]\n",
            " [ 49  55]\n",
            " [ 86  20]\n",
            " [ 63  54]\n",
            " [ 19   3]\n",
            " [ 62  56]\n",
            " [ 54  42]\n",
            " [ 70  77]\n",
            " [ 85  26]\n",
            " [ 29  87]\n",
            " [ 16  77]\n",
            " [ 37  75]\n",
            " [ 42  52]\n",
            " [ 54  48]\n",
            " [ 81  93]\n",
            " [ 65  48]\n",
            " [ 43  45]\n",
            " [ 59  55]\n",
            " [ 81   5]\n",
            " [ 39  61]\n",
            " [ 78  73]\n",
            " [ 40  42]\n",
            " [ 87  13]\n",
            " [ 46  46]\n",
            " [ 20  79]\n",
            " [ 43  60]\n",
            " [ 24  35]\n",
            " [ 20  13]\n",
            " [101  68]\n",
            " [ 72  71]\n",
            " [ 54  53]\n",
            " [ 19  72]\n",
            " [ 62  42]\n",
            " [ 63  46]\n",
            " [ 78  78]\n",
            " [ 20  15]\n",
            " [ 21  35]\n",
            " [ 40  47]\n",
            " [ 77  74]\n",
            " [ 67  57]\n",
            " [ 24  73]\n",
            " [ 79  83]\n",
            " [ 71   9]\n",
            " [ 97  86]\n",
            " [ 50  56]\n",
            " [ 30   4]\n",
            " [ 77  36]\n",
            " [ 33  92]\n",
            " [ 77  97]\n",
            " [ 85  75]\n",
            " [ 88  13]\n",
            " [ 69  91]\n",
            " [137  18]\n",
            " [ 62  41]\n",
            " [ 78   1]\n",
            " [ 97  32]\n",
            " [ 46  55]\n",
            " [ 33  81]\n",
            " [ 19  14]\n",
            " [103  23]\n",
            " [ 49  42]\n",
            " [113  91]\n",
            " [ 60  40]\n",
            " [ 67  43]\n",
            " [ 77  12]\n",
            " [ 15  81]\n",
            " [ 54  44]\n",
            " [103  85]\n",
            " [ 57  55]\n",
            " [ 73  73]\n",
            " [ 17  40]\n",
            " [ 37  26]\n",
            " [ 87  75]\n",
            " [ 33  14]\n",
            " [ 64  42]\n",
            " [ 78  20]\n",
            " [ 44  50]\n",
            " [ 48  47]\n",
            " [ 39  28]\n",
            " [ 23  98]\n",
            " [ 18   6]\n",
            " [ 43  41]\n",
            " [ 54  54]\n",
            " [ 15  39]\n",
            " [ 87  10]\n",
            " [ 73  88]\n",
            " [ 71  95]\n",
            " [ 88  15]\n",
            " [ 48  59]\n",
            " [ 86  95]\n",
            " [ 73   7]\n",
            " [ 39  36]\n",
            " [ 63  52]\n",
            " [ 58  46]\n",
            " [ 50  49]\n",
            " [ 25  73]\n",
            " [ 76  40]\n",
            " [ 99  97]\n",
            " [ 60  49]\n",
            " [ 62  55]\n",
            " [ 78  88]\n",
            " [ 48  48]\n",
            " [ 28  82]\n",
            " [126  28]\n",
            " [ 88  86]]\n"
          ]
        }
      ],
      "source": [
        "print(X_train)"
      ]
    },
    {
      "cell_type": "code",
      "execution_count": null,
      "metadata": {
        "colab": {
          "base_uri": "https://localhost:8080/"
        },
        "id": "7JVtMyCYxkgg",
        "outputId": "a5174af6-2258-4db4-8482-20483e3a0564"
      },
      "outputs": [
        {
          "name": "stdout",
          "output_type": "stream",
          "text": [
            "[ 98  42  99  75  54  65  60  34  72  62  61  40  17  21  78  87 137 120\n",
            "  47  48  28  78  38  43  93  54  18  59  87  78  49  86  63  19  62  54\n",
            "  70  85  29  16  37  42  54  81  65  43  59  81  39  78  40  87  46  20\n",
            "  43  24  20 101  72  54  19  62  63  78  20  21  40  77  67  24  79  71\n",
            "  97  50  30  77  33  77  85  88  69 137  62  78  97  46  33  19 103  49\n",
            " 113  60  67  77  15  54 103  57  73  17  37  87  33  64  78  44  48  39\n",
            "  23  18  43  54  15  87  73  71  88  48  86  73  39  63  58  50  25  76\n",
            "  99  60  62  78  48  28 126  88]\n"
          ]
        }
      ],
      "source": [
        "print(y_train)"
      ]
    },
    {
      "cell_type": "markdown",
      "metadata": {
        "id": "quOGMWKaxZap"
      },
      "source": [
        "**15.Test the Model**"
      ]
    },
    {
      "cell_type": "code",
      "execution_count": null,
      "metadata": {
        "colab": {
          "base_uri": "https://localhost:8080/"
        },
        "id": "fJYAa-7Wx6N7",
        "outputId": "241358fe-776f-40eb-aa6a-33e2b3ac9bcf"
      },
      "outputs": [
        {
          "name": "stdout",
          "output_type": "stream",
          "text": [
            "[[ 57  58]\n",
            " [ 67  56]\n",
            " [ 25   5]\n",
            " [ 19  99]\n",
            " [120  79]\n",
            " [ 16   6]\n",
            " [ 67  40]\n",
            " [ 60  42]\n",
            " [ 48  50]\n",
            " [ 47  59]\n",
            " [ 63  43]\n",
            " [ 60  47]\n",
            " [ 74  10]\n",
            " [ 48  59]\n",
            " [103  17]\n",
            " [ 78  89]\n",
            " [ 28  14]\n",
            " [ 61  49]\n",
            " [ 78  76]\n",
            " [ 40  55]\n",
            " [ 93  14]\n",
            " [ 74  72]\n",
            " [ 76  87]\n",
            " [ 54  47]\n",
            " [101  24]\n",
            " [ 87  63]\n",
            " [ 62  48]\n",
            " [126  74]\n",
            " [ 63  48]\n",
            " [ 88  69]\n",
            " [ 44  46]\n",
            " [ 63  50]\n",
            " [ 79  35]\n",
            " [ 54  57]\n",
            " [ 70  29]\n",
            " [ 54  46]\n",
            " [ 71  35]\n",
            " [ 98  88]\n",
            " [ 54  51]\n",
            " [ 65  43]\n",
            " [ 71  75]\n",
            " [ 71  11]\n",
            " [ 46  56]\n",
            " [ 69  58]\n",
            " [ 28  61]\n",
            " [ 38  35]\n",
            " [ 39  65]\n",
            " [103  69]\n",
            " [ 30  73]\n",
            " [ 78  16]\n",
            " [ 33   4]\n",
            " [ 20  77]\n",
            " [ 65  59]\n",
            " [ 54  52]\n",
            " [ 71  75]\n",
            " [ 29  31]\n",
            " [ 23  29]\n",
            " [ 75  93]\n",
            " [ 73   5]\n",
            " [ 60  50]\n",
            " [ 58  60]\n",
            " [ 46  51]\n",
            " [ 64  46]\n",
            " [ 78  90]\n",
            " [ 34  17]\n",
            " [113   8]]\n"
          ]
        }
      ],
      "source": [
        "print(X_test)"
      ]
    },
    {
      "cell_type": "code",
      "execution_count": null,
      "metadata": {
        "colab": {
          "base_uri": "https://localhost:8080/"
        },
        "id": "Hmyt_Ep3yKKT",
        "outputId": "1f85e679-fb0f-4624-e3b1-274de34a638f"
      },
      "outputs": [
        {
          "name": "stdout",
          "output_type": "stream",
          "text": [
            "[ 57  67  25  19 120  16  67  60  48  47  63  60  74  48 103  78  28  61\n",
            "  78  40  93  74  76  54 101  87  62 126  63  88  44  63  79  54  70  54\n",
            "  71  98  54  65  71  71  46  69  28  38  39 103  30  78  33  20  65  54\n",
            "  71  29  23  75  73  60  58  46  64  78  34 113]\n"
          ]
        }
      ],
      "source": [
        "print(y_test)"
      ]
    },
    {
      "cell_type": "markdown",
      "metadata": {
        "id": "24RzACxbyewO"
      },
      "source": [
        "**16.Measure the performance using metrics**"
      ]
    },
    {
      "cell_type": "code",
      "execution_count": null,
      "metadata": {
        "colab": {
          "base_uri": "https://localhost:8080/"
        },
        "id": "O9fS8I2typEL",
        "outputId": "f0c0a05a-2060-4137-c7d9-3c3b9e64c692"
      },
      "outputs": [
        {
          "name": "stdout",
          "output_type": "stream",
          "text": [
            "RSquared= 0.9656060606060606\n",
            "MAE= 0.42499999999999993\n",
            "MSE= 0.5674999999999999\n"
          ]
        }
      ],
      "source": [
        "from sklearn.metrics import r2_score\n",
        "from sklearn.metrics import mean_absolute_error\n",
        "from sklearn.metrics import mean_squared_error\n",
        "X_train=[5,-1,2,10]\n",
        "Y_test=[3.5,-0.9,2,9.9]\n",
        "print('RSquared=',r2_score(X_train,Y_test))\n",
        "print('MAE=',mean_absolute_error(X_train,Y_test))\n",
        "print('MSE=',mean_squared_error(X_train,Y_test))"
      ]
    }
  ],
  "metadata": {
    "colab": {
      "collapsed_sections": [],
      "provenance": [],
      "toc_visible": true
    },
    "kernelspec": {
      "display_name": "Python 3",
      "name": "python3"
    },
    "language_info": {
      "name": "python"
    }
  },
  "nbformat": 4,
  "nbformat_minor": 0
}